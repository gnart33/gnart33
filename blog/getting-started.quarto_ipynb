{
  "cells": [
    {
      "cell_type": "markdown",
      "metadata": {},
      "source": [
        "---\n",
        "title: \"Getting Started with Quarto\"\n",
        "date: 2024-04-02\n",
        "---\n",
        "\n",
        "\n",
        "::: {.lead}\n",
        "Learn how to create beautiful documents with Quarto, from basic markdown to advanced features.\n",
        ":::\n",
        "\n",
        "## Introduction\n",
        "\n",
        "Quarto is a powerful scientific and technical publishing system built on Pandoc. It allows you to create beautiful documents, websites, and presentations using simple markdown syntax.\n",
        "\n",
        "## Basic Features\n",
        "\n",
        "### Markdown Support\n",
        "\n",
        "Quarto supports all standard markdown features:\n",
        "\n",
        "- Headers\n",
        "- Lists\n",
        "- Links\n",
        "- Images\n",
        "- Code blocks\n",
        "\n",
        "### Code Execution\n"
      ],
      "id": "976167ac"
    },
    {
      "cell_type": "code",
      "metadata": {},
      "source": [
        "#| echo: true\n",
        "print(\"Hello, Quarto!\")"
      ],
      "id": "ec9d9098",
      "execution_count": null,
      "outputs": []
    },
    {
      "cell_type": "markdown",
      "metadata": {},
      "source": [
        "### Custom Formatting\n",
        "\n",
        "You can use custom CSS and HTML to style your content:\n",
        "\n",
        "::: {.callout-note appearance=\"simple\"}\n",
        "## Pro Tip\n",
        "Use callouts to highlight important information!\n",
        ":::\n",
        "\n",
        "## Next Steps\n",
        "\n",
        "1. Install Quarto\n",
        "2. Create your first document\n",
        "3. Explore advanced features\n",
        "4. Share your work\n",
        "\n",
        "## Resources\n",
        "\n",
        "- [Quarto Documentation](https://quarto.org/docs/)\n",
        "- [Quarto GitHub](https://github.com/quarto-dev/quarto)\n",
        "- [Quarto Community](https://github.com/quarto-dev/quarto-cli/discussions) "
      ],
      "id": "e9230961"
    }
  ],
  "metadata": {
    "kernelspec": {
      "display_name": "Python 3",
      "language": "python",
      "name": "python3"
    }
  },
  "nbformat": 4,
  "nbformat_minor": 5
}